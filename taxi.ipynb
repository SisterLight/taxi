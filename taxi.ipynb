{
 "cells": [
  {
   "cell_type": "markdown",
   "metadata": {
    "toc": true
   },
   "source": [
    "<h1>Содержание<span class=\"tocSkip\"></span></h1>\n",
    "<div class=\"toc\"><ul class=\"toc-item\"><li><span><a href=\"#Подготовка\" data-toc-modified-id=\"Подготовка-1\"><span class=\"toc-item-num\">1&nbsp;&nbsp;</span>Подготовка</a></span></li><li><span><a href=\"#Анализ\" data-toc-modified-id=\"Анализ-2\"><span class=\"toc-item-num\">2&nbsp;&nbsp;</span>Анализ</a></span></li><li><span><a href=\"#Обучение\" data-toc-modified-id=\"Обучение-3\"><span class=\"toc-item-num\">3&nbsp;&nbsp;</span>Обучение</a></span><ul class=\"toc-item\"><li><span><a href=\"#Линейная-регрессия\" data-toc-modified-id=\"Линейная-регрессия-3.1\"><span class=\"toc-item-num\">3.1&nbsp;&nbsp;</span>Линейная регрессия</a></span></li><li><span><a href=\"#NeuralProphet\" data-toc-modified-id=\"NeuralProphet-3.2\"><span class=\"toc-item-num\">3.2&nbsp;&nbsp;</span>NeuralProphet</a></span></li></ul></li><li><span><a href=\"#Тестирование\" data-toc-modified-id=\"Тестирование-4\"><span class=\"toc-item-num\">4&nbsp;&nbsp;</span>Тестирование</a></span></li><li><span><a href=\"#Вывод\" data-toc-modified-id=\"Вывод-5\"><span class=\"toc-item-num\">5&nbsp;&nbsp;</span>Вывод</a></span></li></ul></div>"
   ]
  },
  {
   "cell_type": "markdown",
   "metadata": {},
   "source": [
    "#  Прогнозирование заказов такси"
   ]
  },
  {
   "cell_type": "markdown",
   "metadata": {},
   "source": [
    "Компания «Чётенькое такси» собрала исторические данные о заказах такси в аэропортах. Чтобы привлекать больше водителей в период пиковой нагрузки, нужно спрогнозировать количество заказов такси на следующий час. Постройте модель для такого предсказания.\n",
    "\n",
    "Значение метрики *RMSE* на тестовой выборке должно быть не больше 48.\n",
    "\n",
    "Вам нужно:\n",
    "\n",
    "1. Загрузить данные и выполнить их ресемплирование по одному часу.\n",
    "2. Проанализировать данные.\n",
    "3. Обучить разные модели с различными гиперпараметрами. Сделать тестовую выборку размером 10% от исходных данных.\n",
    "4. Проверить данные на тестовой выборке и сделать выводы.\n",
    "\n",
    "\n",
    "Данные лежат в файле `taxi.csv`. Количество заказов находится в столбце `num_orders` (от англ. *number of orders*, «число заказов»)."
   ]
  },
  {
   "cell_type": "code",
   "execution_count": 2,
   "metadata": {
    "scrolled": true
   },
   "outputs": [
    {
     "name": "stdout",
     "output_type": "stream",
     "text": [
      "Defaulting to user installation because normal site-packages is not writeable\n",
      "Collecting neuralprophet\n",
      "  Downloading neuralprophet-0.2.7-py3-none-any.whl (56 kB)\n",
      "\u001b[K     |████████████████████████████████| 56 kB 804 kB/s eta 0:00:01\n",
      "\u001b[?25hCollecting pandas>=1.0.4\n",
      "  Downloading pandas-1.3.3-cp37-cp37m-manylinux_2_17_x86_64.manylinux2014_x86_64.whl (11.3 MB)\n",
      "\u001b[K     |████████████████████████████████| 11.3 MB 1.5 MB/s eta 0:00:01\n",
      "\u001b[?25hCollecting LunarCalendar>=0.0.9\n",
      "  Downloading LunarCalendar-0.0.9-py2.py3-none-any.whl (18 kB)\n",
      "Requirement already satisfied: python-dateutil>=2.8.0 in /opt/conda/lib/python3.7/site-packages (from neuralprophet) (2.8.1)\n",
      "Requirement already satisfied: tqdm>=4.50.2 in /opt/conda/lib/python3.7/site-packages (from neuralprophet) (4.51.0)\n",
      "Collecting attrdict>=2.0.1\n",
      "  Downloading attrdict-2.0.1-py2.py3-none-any.whl (9.9 kB)\n",
      "Collecting convertdate>=2.1.2\n",
      "  Downloading convertdate-2.3.2-py3-none-any.whl (47 kB)\n",
      "\u001b[K     |████████████████████████████████| 47 kB 635 kB/s eta 0:00:01\n",
      "\u001b[?25hCollecting ipywidgets>=7.5.1\n",
      "  Downloading ipywidgets-7.6.5-py2.py3-none-any.whl (121 kB)\n",
      "\u001b[K     |████████████████████████████████| 121 kB 1.5 MB/s eta 0:00:01\n",
      "\u001b[?25hCollecting torch-lr-finder>=0.2.1\n",
      "  Downloading torch_lr_finder-0.2.1-py3-none-any.whl (11 kB)\n",
      "Requirement already satisfied: torch<1.7.0,>=1.4.0 in /opt/conda/lib/python3.7/site-packages (from neuralprophet) (1.5.1)\n",
      "Requirement already satisfied: matplotlib>=2.0.0 in /opt/conda/lib/python3.7/site-packages (from neuralprophet) (3.1.0)\n",
      "Collecting holidays>=0.10.2\n",
      "  Downloading holidays-0.11.2-py3-none-any.whl (142 kB)\n",
      "\u001b[K     |████████████████████████████████| 142 kB 6.3 MB/s eta 0:00:01\n",
      "\u001b[?25hRequirement already satisfied: numpy>=1.15.4 in /opt/conda/lib/python3.7/site-packages (from neuralprophet) (1.19.5)\n",
      "Requirement already satisfied: pytz>=2017.3 in /opt/conda/lib/python3.7/site-packages (from pandas>=1.0.4->neuralprophet) (2021.1)\n",
      "Collecting ephem>=3.7.5.3\n",
      "  Downloading ephem-4.0.0.2-cp37-cp37m-manylinux2010_x86_64.whl (1.2 MB)\n",
      "\u001b[K     |████████████████████████████████| 1.2 MB 11.8 MB/s eta 0:00:01\n",
      "\u001b[?25hRequirement already satisfied: six>=1.5 in /opt/conda/lib/python3.7/site-packages (from python-dateutil>=2.8.0->neuralprophet) (1.15.0)\n",
      "Collecting pymeeus<=1,>=0.3.13\n",
      "  Downloading PyMeeus-0.5.11.tar.gz (5.4 MB)\n",
      "\u001b[K     |████████████████████████████████| 5.4 MB 51.0 MB/s eta 0:00:01\n",
      "\u001b[?25hRequirement already satisfied: traitlets>=4.3.1 in /opt/conda/lib/python3.7/site-packages (from ipywidgets>=7.5.1->neuralprophet) (5.0.5)\n",
      "Requirement already satisfied: ipython>=4.0.0; python_version >= \"3.3\" in /opt/conda/lib/python3.7/site-packages (from ipywidgets>=7.5.1->neuralprophet) (7.24.1)\n",
      "Collecting jupyterlab-widgets>=1.0.0; python_version >= \"3.6\"\n",
      "  Downloading jupyterlab_widgets-1.0.2-py3-none-any.whl (243 kB)\n",
      "\u001b[K     |████████████████████████████████| 243 kB 67.2 MB/s eta 0:00:01\n",
      "\u001b[?25hCollecting widgetsnbextension~=3.5.0\n",
      "  Downloading widgetsnbextension-3.5.1-py2.py3-none-any.whl (2.2 MB)\n",
      "\u001b[K     |████████████████████████████████| 2.2 MB 46.5 MB/s eta 0:00:01\n",
      "\u001b[?25hRequirement already satisfied: nbformat>=4.2.0 in /opt/conda/lib/python3.7/site-packages (from ipywidgets>=7.5.1->neuralprophet) (4.4.0)\n",
      "Requirement already satisfied: ipykernel>=4.5.1 in /opt/conda/lib/python3.7/site-packages (from ipywidgets>=7.5.1->neuralprophet) (5.5.5)\n",
      "Requirement already satisfied: ipython-genutils~=0.2.0 in /opt/conda/lib/python3.7/site-packages (from ipywidgets>=7.5.1->neuralprophet) (0.2.0)\n",
      "Requirement already satisfied: packaging in /opt/conda/lib/python3.7/site-packages (from torch-lr-finder>=0.2.1->neuralprophet) (20.4)\n",
      "Requirement already satisfied: future in /opt/conda/lib/python3.7/site-packages (from torch<1.7.0,>=1.4.0->neuralprophet) (0.18.2)\n",
      "Requirement already satisfied: cycler>=0.10 in /opt/conda/lib/python3.7/site-packages (from matplotlib>=2.0.0->neuralprophet) (0.10.0)\n",
      "Requirement already satisfied: pyparsing!=2.0.4,!=2.1.2,!=2.1.6,>=2.0.1 in /opt/conda/lib/python3.7/site-packages (from matplotlib>=2.0.0->neuralprophet) (2.4.7)\n",
      "Requirement already satisfied: kiwisolver>=1.0.1 in /opt/conda/lib/python3.7/site-packages (from matplotlib>=2.0.0->neuralprophet) (1.3.1)\n",
      "Collecting hijri-converter\n",
      "  Downloading hijri_converter-2.2.2-py3-none-any.whl (13 kB)\n",
      "Collecting korean-lunar-calendar\n",
      "  Downloading korean_lunar_calendar-0.2.1-py3-none-any.whl (8.0 kB)\n",
      "Requirement already satisfied: decorator in /opt/conda/lib/python3.7/site-packages (from ipython>=4.0.0; python_version >= \"3.3\"->ipywidgets>=7.5.1->neuralprophet) (4.4.2)\n",
      "Requirement already satisfied: pexpect>4.3; sys_platform != \"win32\" in /opt/conda/lib/python3.7/site-packages (from ipython>=4.0.0; python_version >= \"3.3\"->ipywidgets>=7.5.1->neuralprophet) (4.8.0)\n",
      "Requirement already satisfied: prompt-toolkit!=3.0.0,!=3.0.1,<3.1.0,>=2.0.0 in /opt/conda/lib/python3.7/site-packages (from ipython>=4.0.0; python_version >= \"3.3\"->ipywidgets>=7.5.1->neuralprophet) (3.0.8)\n",
      "Requirement already satisfied: pygments in /opt/conda/lib/python3.7/site-packages (from ipython>=4.0.0; python_version >= \"3.3\"->ipywidgets>=7.5.1->neuralprophet) (2.7.2)\n",
      "Requirement already satisfied: pickleshare in /opt/conda/lib/python3.7/site-packages (from ipython>=4.0.0; python_version >= \"3.3\"->ipywidgets>=7.5.1->neuralprophet) (0.7.5)\n",
      "Requirement already satisfied: jedi>=0.16 in /opt/conda/lib/python3.7/site-packages (from ipython>=4.0.0; python_version >= \"3.3\"->ipywidgets>=7.5.1->neuralprophet) (0.17.2)\n",
      "Requirement already satisfied: matplotlib-inline in /opt/conda/lib/python3.7/site-packages (from ipython>=4.0.0; python_version >= \"3.3\"->ipywidgets>=7.5.1->neuralprophet) (0.1.2)\n",
      "Requirement already satisfied: backcall in /opt/conda/lib/python3.7/site-packages (from ipython>=4.0.0; python_version >= \"3.3\"->ipywidgets>=7.5.1->neuralprophet) (0.2.0)\n",
      "Requirement already satisfied: setuptools>=18.5 in /opt/conda/lib/python3.7/site-packages (from ipython>=4.0.0; python_version >= \"3.3\"->ipywidgets>=7.5.1->neuralprophet) (49.6.0.post20210108)\n",
      "Requirement already satisfied: notebook>=4.4.1 in /opt/conda/lib/python3.7/site-packages (from widgetsnbextension~=3.5.0->ipywidgets>=7.5.1->neuralprophet) (6.1.4)\n",
      "Requirement already satisfied: jsonschema!=2.5.0,>=2.4 in /opt/conda/lib/python3.7/site-packages (from nbformat>=4.2.0->ipywidgets>=7.5.1->neuralprophet) (3.2.0)\n",
      "Requirement already satisfied: jupyter-core in /opt/conda/lib/python3.7/site-packages (from nbformat>=4.2.0->ipywidgets>=7.5.1->neuralprophet) (4.6.2)\n",
      "Requirement already satisfied: jupyter-client in /opt/conda/lib/python3.7/site-packages (from ipykernel>=4.5.1->ipywidgets>=7.5.1->neuralprophet) (5.3.4)\n",
      "Requirement already satisfied: tornado>=4.2 in /opt/conda/lib/python3.7/site-packages (from ipykernel>=4.5.1->ipywidgets>=7.5.1->neuralprophet) (6.1)\n",
      "Requirement already satisfied: ptyprocess>=0.5 in /opt/conda/lib/python3.7/site-packages (from pexpect>4.3; sys_platform != \"win32\"->ipython>=4.0.0; python_version >= \"3.3\"->ipywidgets>=7.5.1->neuralprophet) (0.6.0)\n",
      "Requirement already satisfied: wcwidth in /opt/conda/lib/python3.7/site-packages (from prompt-toolkit!=3.0.0,!=3.0.1,<3.1.0,>=2.0.0->ipython>=4.0.0; python_version >= \"3.3\"->ipywidgets>=7.5.1->neuralprophet) (0.2.5)\n",
      "Requirement already satisfied: parso<0.8.0,>=0.7.0 in /opt/conda/lib/python3.7/site-packages (from jedi>=0.16->ipython>=4.0.0; python_version >= \"3.3\"->ipywidgets>=7.5.1->neuralprophet) (0.7.1)\n",
      "Requirement already satisfied: argon2-cffi in /opt/conda/lib/python3.7/site-packages (from notebook>=4.4.1->widgetsnbextension~=3.5.0->ipywidgets>=7.5.1->neuralprophet) (20.1.0)\n",
      "Requirement already satisfied: pyzmq>=17 in /opt/conda/lib/python3.7/site-packages (from notebook>=4.4.1->widgetsnbextension~=3.5.0->ipywidgets>=7.5.1->neuralprophet) (22.0.3)\n",
      "Requirement already satisfied: terminado>=0.8.3 in /opt/conda/lib/python3.7/site-packages (from notebook>=4.4.1->widgetsnbextension~=3.5.0->ipywidgets>=7.5.1->neuralprophet) (0.10.0)\n",
      "Requirement already satisfied: jinja2 in /opt/conda/lib/python3.7/site-packages (from notebook>=4.4.1->widgetsnbextension~=3.5.0->ipywidgets>=7.5.1->neuralprophet) (2.11.2)\n",
      "Requirement already satisfied: Send2Trash in /opt/conda/lib/python3.7/site-packages (from notebook>=4.4.1->widgetsnbextension~=3.5.0->ipywidgets>=7.5.1->neuralprophet) (1.5.0)\n",
      "Requirement already satisfied: nbconvert in /opt/conda/lib/python3.7/site-packages (from notebook>=4.4.1->widgetsnbextension~=3.5.0->ipywidgets>=7.5.1->neuralprophet) (5.5.0)\n",
      "Requirement already satisfied: prometheus-client in /opt/conda/lib/python3.7/site-packages (from notebook>=4.4.1->widgetsnbextension~=3.5.0->ipywidgets>=7.5.1->neuralprophet) (0.8.0)\n",
      "Requirement already satisfied: pyrsistent>=0.14.0 in /opt/conda/lib/python3.7/site-packages (from jsonschema!=2.5.0,>=2.4->nbformat>=4.2.0->ipywidgets>=7.5.1->neuralprophet) (0.17.3)\n",
      "Requirement already satisfied: attrs>=17.4.0 in /opt/conda/lib/python3.7/site-packages (from jsonschema!=2.5.0,>=2.4->nbformat>=4.2.0->ipywidgets>=7.5.1->neuralprophet) (19.1.0)\n",
      "Requirement already satisfied: importlib-metadata; python_version < \"3.8\" in /opt/conda/lib/python3.7/site-packages (from jsonschema!=2.5.0,>=2.4->nbformat>=4.2.0->ipywidgets>=7.5.1->neuralprophet) (2.0.0)\n",
      "Requirement already satisfied: cffi>=1.0.0 in /opt/conda/lib/python3.7/site-packages (from argon2-cffi->notebook>=4.4.1->widgetsnbextension~=3.5.0->ipywidgets>=7.5.1->neuralprophet) (1.14.4)\n",
      "Requirement already satisfied: MarkupSafe>=0.23 in /opt/conda/lib/python3.7/site-packages (from jinja2->notebook>=4.4.1->widgetsnbextension~=3.5.0->ipywidgets>=7.5.1->neuralprophet) (2.0.1)\n",
      "Requirement already satisfied: bleach in /opt/conda/lib/python3.7/site-packages (from nbconvert->notebook>=4.4.1->widgetsnbextension~=3.5.0->ipywidgets>=7.5.1->neuralprophet) (3.2.1)\n",
      "Requirement already satisfied: entrypoints>=0.2.2 in /opt/conda/lib/python3.7/site-packages (from nbconvert->notebook>=4.4.1->widgetsnbextension~=3.5.0->ipywidgets>=7.5.1->neuralprophet) (0.3)\n",
      "Requirement already satisfied: pandocfilters>=1.4.1 in /opt/conda/lib/python3.7/site-packages (from nbconvert->notebook>=4.4.1->widgetsnbextension~=3.5.0->ipywidgets>=7.5.1->neuralprophet) (1.4.2)\n",
      "Requirement already satisfied: defusedxml in /opt/conda/lib/python3.7/site-packages (from nbconvert->notebook>=4.4.1->widgetsnbextension~=3.5.0->ipywidgets>=7.5.1->neuralprophet) (0.6.0)\n",
      "Requirement already satisfied: testpath in /opt/conda/lib/python3.7/site-packages (from nbconvert->notebook>=4.4.1->widgetsnbextension~=3.5.0->ipywidgets>=7.5.1->neuralprophet) (0.4.4)\n",
      "Requirement already satisfied: mistune>=0.8.1 in /opt/conda/lib/python3.7/site-packages (from nbconvert->notebook>=4.4.1->widgetsnbextension~=3.5.0->ipywidgets>=7.5.1->neuralprophet) (0.8.4)\n",
      "Requirement already satisfied: zipp>=0.5 in /opt/conda/lib/python3.7/site-packages (from importlib-metadata; python_version < \"3.8\"->jsonschema!=2.5.0,>=2.4->nbformat>=4.2.0->ipywidgets>=7.5.1->neuralprophet) (3.4.0)\n",
      "Requirement already satisfied: pycparser in /opt/conda/lib/python3.7/site-packages (from cffi>=1.0.0->argon2-cffi->notebook>=4.4.1->widgetsnbextension~=3.5.0->ipywidgets>=7.5.1->neuralprophet) (2.20)\n",
      "Requirement already satisfied: webencodings in /opt/conda/lib/python3.7/site-packages (from bleach->nbconvert->notebook>=4.4.1->widgetsnbextension~=3.5.0->ipywidgets>=7.5.1->neuralprophet) (0.5.1)\n",
      "Building wheels for collected packages: pymeeus\n",
      "  Building wheel for pymeeus (setup.py) ... \u001b[?25ldone\n",
      "\u001b[?25h  Created wheel for pymeeus: filename=PyMeeus-0.5.11-py3-none-any.whl size=730974 sha256=b865b92d20a5d9aee5e420635a0a3b58605d5c47ac226507a5c711472b741793\n",
      "  Stored in directory: /home/jovyan/.cache/pip/wheels/33/6b/a6/1d9dae2323750f635654952afc74aa8f2d982cded163f43895\n",
      "Successfully built pymeeus\n",
      "Installing collected packages: pandas, ephem, LunarCalendar, attrdict, pymeeus, convertdate, jupyterlab-widgets, widgetsnbextension, ipywidgets, torch-lr-finder, hijri-converter, korean-lunar-calendar, holidays, neuralprophet\n",
      "\u001b[33m  WARNING: The script lunar-find is installed in '/home/jovyan/.local/bin' which is not on PATH.\n",
      "  Consider adding this directory to PATH or, if you prefer to suppress this warning, use --no-warn-script-location.\u001b[0m\n",
      "Successfully installed LunarCalendar-0.0.9 attrdict-2.0.1 convertdate-2.3.2 ephem-4.0.0.2 hijri-converter-2.2.2 holidays-0.11.2 ipywidgets-7.6.5 jupyterlab-widgets-1.0.2 korean-lunar-calendar-0.2.1 neuralprophet-0.2.7 pandas-1.3.3 pymeeus-0.5.11 torch-lr-finder-0.2.1 widgetsnbextension-3.5.1\n",
      "Note: you may need to restart the kernel to use updated packages.\n"
     ]
    }
   ],
   "source": [
    "pip install neuralprophet"
   ]
  },
  {
   "cell_type": "code",
   "execution_count": 3,
   "metadata": {},
   "outputs": [
    {
     "name": "stderr",
     "output_type": "stream",
     "text": [
      "/opt/conda/lib/python3.7/site-packages/statsmodels/tools/_testing.py:19: FutureWarning: pandas.util.testing is deprecated. Use the functions in the public API at pandas.testing instead.\n",
      "  import pandas.util.testing as tm\n"
     ]
    }
   ],
   "source": [
    "import pandas as pd\n",
    "import numpy as np\n",
    "from sklearn.model_selection import train_test_split\n",
    "from sklearn.linear_model import LinearRegression\n",
    "from neuralprophet import NeuralProphet\n",
    "from sklearn.metrics import mean_squared_error\n",
    "from sklearn.ensemble import RandomForestRegressor\n",
    "\n",
    "from statsmodels.tsa.seasonal import seasonal_decompose\n",
    "import matplotlib.pyplot as plt\n",
    "\n",
    "from sklearn.metrics import mean_absolute_error"
   ]
  },
  {
   "cell_type": "markdown",
   "metadata": {},
   "source": [
    "## Подготовка"
   ]
  },
  {
   "cell_type": "code",
   "execution_count": 4,
   "metadata": {},
   "outputs": [
    {
     "name": "stdout",
     "output_type": "stream",
     "text": [
      "<class 'pandas.core.frame.DataFrame'>\n",
      "DatetimeIndex: 26496 entries, 2018-03-01 00:00:00 to 2018-08-31 23:50:00\n",
      "Data columns (total 1 columns):\n",
      " #   Column      Non-Null Count  Dtype\n",
      "---  ------      --------------  -----\n",
      " 0   num_orders  26496 non-null  int64\n",
      "dtypes: int64(1)\n",
      "memory usage: 414.0 KB\n"
     ]
    }
   ],
   "source": [
    "df =  pd.read_csv('/datasets/taxi.csv', index_col=[0], parse_dates=[0])\n",
    "df.sort_index(inplace=True)\n",
    "df.info()"
   ]
  },
  {
   "cell_type": "code",
   "execution_count": 5,
   "metadata": {},
   "outputs": [],
   "source": [
    "df_orig = df\n",
    "df = df.resample('1H').sum()"
   ]
  },
  {
   "cell_type": "markdown",
   "metadata": {},
   "source": [
    "## Анализ"
   ]
  },
  {
   "cell_type": "code",
   "execution_count": 6,
   "metadata": {},
   "outputs": [
    {
     "data": {
      "text/plain": [
       "Text(0.5, 1.0, 'График 1: число заказов в зависимости от даты')"
      ]
     },
     "execution_count": 6,
     "metadata": {},
     "output_type": "execute_result"
    },
    {
     "data": {
      "image/png": "[encoded data removed]",
      "text/plain": [
       "<Figure size 432x288 with 1 Axes>"
      ]
     },
     "metadata": {
      "needs_background": "light"
     },
     "output_type": "display_data"
    }
   ],
   "source": [
    "decomposed = seasonal_decompose(df) \n",
    "df.plot(ax=plt.gca())\n",
    "plt.title('График 1: число заказов в зависимости от даты')"
   ]
  },
  {
   "cell_type": "code",
   "execution_count": 7,
   "metadata": {},
   "outputs": [
    {
     "name": "stdout",
     "output_type": "stream",
     "text": [
      "График 2: количесво заказав: декомпозиция\n"
     ]
    },
    {
     "data": {
      "image/png": "[encoded data removed]",
      "text/plain": [
       "<Figure size 432x576 with 3 Axes>"
      ]
     },
     "metadata": {
      "needs_background": "light"
     },
     "output_type": "display_data"
    }
   ],
   "source": [
    "plt.figure(figsize=(6, 8))\n",
    "print('График 2: количесво заказав: декомпозиция')\n",
    "plt.subplot(311)\n",
    "decomposed.trend.plot(ax=plt.gca())\n",
    "plt.title('Trend')\n",
    "plt.subplot(312)\n",
    "decomposed.seasonal.plot(ax=plt.gca()) \n",
    "plt.title('Seasonality')\n",
    "plt.subplot(313)\n",
    "decomposed.resid.plot(ax=plt.gca()) \n",
    "plt.title('Residuals')\n",
    "plt.tight_layout()"
   ]
  },
  {
   "cell_type": "markdown",
   "metadata": {},
   "source": [
    "Из разложения данных виидно, что они имеют растущий тренд, не имеют сезонности - такси в аэропорт нужно всегда. Остаточная состовляющая тоже достаточно велика - в конце наблдения пики."
   ]
  },
  {
   "cell_type": "markdown",
   "metadata": {},
   "source": [
    "## Обучение\n",
    "Обучим 2 модели - линейную регрессию для сравнения и NeuralProphet. \n",
    "Подговим данные для линейной регрессии."
   ]
  },
  {
   "cell_type": "code",
   "execution_count": 8,
   "metadata": {},
   "outputs": [],
   "source": [
    "def make_features(data, max_lag, rolling_mean_size):\n",
    "    data['year'] = data.index.year\n",
    "    data['month'] = data.index.month\n",
    "    data['day'] = data.index.day\n",
    "    data['dayofweek'] = data.index.dayofweek\n",
    "    \n",
    "    for lag in range(1, max_lag + 1):\n",
    "        data['lag_{}'.format(lag)] = data['num_orders'].shift(lag)\n",
    "\n",
    "    data['rolling_mean'] = data['num_orders'].shift().rolling(rolling_mean_size).mean()\n",
    "\n",
    "\n",
    "make_features(df, 24, 2)\n",
    "df = df.dropna()\n",
    "features = df.drop('num_orders' , axis=1)\n",
    "target = df['num_orders']\n",
    "features_train,features_test, target_train,target_test = train_test_split(features,target, test_size=0.1, shuffle=False)\n",
    "\n",
    "features_train, features_val, target_train, target_val = train_test_split(features_train, target_train, test_size=0.1, shuffle=False)"
   ]
  },
  {
   "cell_type": "markdown",
   "metadata": {},
   "source": [
    " В функцию make_features() аргумент max_lag задаст максимальный размер отставания, а rolling_mean_size задаст ширину окна для вычмсления среднего скользящего. Скользящее среднее как признак задаёт общий тренд временного ряда.\n",
    " Для наших целей выбраны значения 24 для лагов и 3 для среднего. Для лагов 24 - так как день ото дня должен быть очень похож, мы логируем сутки. А тренды должны предсказываться на очень коротких интервалах времени - спрос на такси очень быстро меняется(см. график 3). "
   ]
  },
  {
   "cell_type": "code",
   "execution_count": 9,
   "metadata": {},
   "outputs": [
    {
     "data": {
      "text/plain": [
       "Text(0.5, 1.0, 'График 3: Изменение спроса за день')"
      ]
     },
     "execution_count": 9,
     "metadata": {},
     "output_type": "execute_result"
    },
    {
     "data": {
      "image/png": "[encoded data removed]",
      "text/plain": [
       "<Figure size 432x288 with 1 Axes>"
      ]
     },
     "metadata": {
      "needs_background": "light"
     },
     "output_type": "display_data"
    }
   ],
   "source": [
    "df['2018-08-01':'2018-08-01']['num_orders'].plot()\n",
    "plt.title('График 3: Изменение спроса за день')"
   ]
  },
  {
   "cell_type": "markdown",
   "metadata": {},
   "source": [
    "### Линейная регрессия\n",
    "Для baseline"
   ]
  },
  {
   "cell_type": "code",
   "execution_count": 10,
   "metadata": {},
   "outputs": [
    {
     "name": "stdout",
     "output_type": "stream",
     "text": [
      "RMSE:\t34.1579\n"
     ]
    }
   ],
   "source": [
    "model_line = LinearRegression()\n",
    "model_line.fit(features_train,target_train)\n",
    "pred = model_line.predict(features_val)\n",
    "print(f\"RMSE:\\t{(mean_squared_error(target_val,pred)**0.5):.4f}\")"
   ]
  },
  {
   "cell_type": "markdown",
   "metadata": {},
   "source": [
    "### NeuralProphet"
   ]
  },
  {
   "cell_type": "code",
   "execution_count": 11,
   "metadata": {},
   "outputs": [],
   "source": [
    "df_orig = df_orig.reset_index().rename(columns={\"datetime\": \"ds\", \"num_orders\":\"y\"})\n",
    "\n",
    "df_train,df_test = train_test_split(df_orig, test_size=0.1, shuffle=False)\n",
    "\n",
    "df_train, df_val = train_test_split(df_orig, test_size=0.1, shuffle=False)"
   ]
  },
  {
   "cell_type": "code",
   "execution_count": 12,
   "metadata": {},
   "outputs": [
    {
     "name": "stderr",
     "output_type": "stream",
     "text": [
      "WARNING: nprophet - fit: Parts of code may break if using other than daily data.\n",
      "INFO: nprophet.utils - set_auto_seasonalities: Disabling yearly seasonality. Run NeuralProphet with yearly_seasonality=True to override this.\n",
      "INFO: nprophet.config - set_auto_batch_epoch: Auto-set batch_size to 128\n",
      "INFO: nprophet.config - set_auto_batch_epoch: Auto-set epochs to 5\n"
     ]
    },
    {
     "data": {
      "application/vnd.jupyter.widget-view+json": {
       "model_id": "d47cae4eb80a4367b6dc6a54766caad1",
       "version_major": 2,
       "version_minor": 0
      },
      "text/plain": [
       "HBox(children=(HTML(value=''), FloatProgress(value=0.0), HTML(value='')))"
      ]
     },
     "metadata": {},
     "output_type": "display_data"
    },
    {
     "name": "stderr",
     "output_type": "stream",
     "text": [
      "INFO: nprophet - _lr_range_test: learning rate range test found optimal lr: 1.23E+00\n",
      "Epoch[5/5]: 100%|██████████| 5/5 [00:04<00:00,  1.20it/s, SmoothL1Loss=0.0237, MAE=4.99, RegLoss=0]\n"
     ]
    }
   ],
   "source": [
    "nprophet_model = NeuralProphet()\n",
    "metrics = nprophet_model.fit(df_train, freq=\"H\")\n",
    "future_df = nprophet_model.make_future_dataframe(df_val, \n",
    "                                                 periods = len(df_val))\n",
    "\n",
    "preds_df_1 = nprophet_model.predict(future_df)"
   ]
  },
  {
   "cell_type": "code",
   "execution_count": 13,
   "metadata": {},
   "outputs": [
    {
     "name": "stdout",
     "output_type": "stream",
     "text": [
      "RMSE:\t13.1105\n"
     ]
    }
   ],
   "source": [
    "print(f\"RMSE:\\t{(mean_squared_error(df_val['y'], preds_df_1['yhat1'])**0.5):.4f}\")\n"
   ]
  },
  {
   "cell_type": "markdown",
   "metadata": {},
   "source": [
    "## Тестирование"
   ]
  },
  {
   "cell_type": "code",
   "execution_count": 14,
   "metadata": {},
   "outputs": [
    {
     "name": "stderr",
     "output_type": "stream",
     "text": [
      "WARNING: nprophet - fit: Parts of code may break if using other than daily data.\n",
      "INFO: nprophet.utils - set_auto_seasonalities: Disabling yearly seasonality. Run NeuralProphet with yearly_seasonality=True to override this.\n",
      "INFO: nprophet.config - set_auto_batch_epoch: Auto-set batch_size to 128\n",
      "INFO: nprophet.config - set_auto_batch_epoch: Auto-set epochs to 5\n"
     ]
    },
    {
     "data": {
      "application/vnd.jupyter.widget-view+json": {
       "model_id": "090452dc9cc54468bf4c8732a7ece05c",
       "version_major": 2,
       "version_minor": 0
      },
      "text/plain": [
       "HBox(children=(HTML(value=''), FloatProgress(value=0.0), HTML(value='')))"
      ]
     },
     "metadata": {},
     "output_type": "display_data"
    },
    {
     "name": "stderr",
     "output_type": "stream",
     "text": [
      "INFO: nprophet - _lr_range_test: learning rate range test found optimal lr: 6.58E-01\n",
      "Epoch[5/5]: 100%|██████████| 5/5 [00:04<00:00,  1.04it/s, SmoothL1Loss=0.0232, MAE=5.27, RegLoss=0]"
     ]
    },
    {
     "name": "stdout",
     "output_type": "stream",
     "text": [
      "RMSE:\t16.0464\n"
     ]
    },
    {
     "name": "stderr",
     "output_type": "stream",
     "text": [
      "\n"
     ]
    }
   ],
   "source": [
    "nprophet_model = NeuralProphet()\n",
    "metrics = nprophet_model.fit(pd.concat([df_train, df_val]), freq=\"H\")\n",
    "future_df = nprophet_model.make_future_dataframe(df_test, \n",
    "                                                 periods = len(df_test))\n",
    "\n",
    "preds_df_2 = nprophet_model.predict(future_df)\n",
    "print(f\"RMSE:\\t{(mean_squared_error(df_test['y'], preds_df_2['yhat1'])**0.5):.4f}\")"
   ]
  },
  {
   "cell_type": "markdown",
   "metadata": {},
   "source": [
    "## Вывод\n",
    "NeuralProphet дает очень высокие показатели RMSE - примерно в 2.6 раза лучше, чем у линейной регрессии."
   ]
  },
  {
   "cell_type": "code",
   "execution_count": null,
   "metadata": {},
   "outputs": [],
   "source": []
  }
 ],
 "metadata": {
  "ExecuteTimeLog": [
   {
    "duration": 1442,
    "start_time": "2021-06-08T20:51:04.066Z"
   },
   {
    "duration": 523,
    "start_time": "2021-06-08T20:52:14.420Z"
   },
   {
    "duration": 44,
    "start_time": "2021-06-08T20:52:26.011Z"
   },
   {
    "duration": 130,
    "start_time": "2021-06-08T20:53:06.725Z"
   },
   {
    "duration": 51,
    "start_time": "2021-06-08T20:53:12.700Z"
   },
   {
    "duration": 15,
    "start_time": "2021-06-08T20:54:16.565Z"
   },
   {
    "duration": 141,
    "start_time": "2021-06-08T20:56:57.335Z"
   },
   {
    "duration": 1694,
    "start_time": "2021-06-08T20:57:27.036Z"
   },
   {
    "duration": 383,
    "start_time": "2021-06-09T10:34:37.744Z"
   },
   {
    "duration": 330,
    "start_time": "2021-06-09T10:34:46.296Z"
   },
   {
    "duration": 1792,
    "start_time": "2021-06-09T10:34:51.636Z"
   },
   {
    "duration": 52,
    "start_time": "2021-06-09T10:34:54.561Z"
   },
   {
    "duration": 22047,
    "start_time": "2021-06-09T10:35:54.003Z"
   },
   {
    "duration": 1162,
    "start_time": "2021-06-09T10:36:16.053Z"
   },
   {
    "duration": 51,
    "start_time": "2021-06-09T10:36:22.441Z"
   },
   {
    "duration": 15,
    "start_time": "2021-06-09T10:36:23.354Z"
   },
   {
    "duration": 390,
    "start_time": "2021-06-09T10:36:24.273Z"
   },
   {
    "duration": 376,
    "start_time": "2021-06-09T10:36:34.542Z"
   },
   {
    "duration": 369,
    "start_time": "2021-06-09T10:36:46.554Z"
   },
   {
    "duration": 345,
    "start_time": "2021-06-09T10:36:55.955Z"
   },
   {
    "duration": 9006,
    "start_time": "2021-06-09T10:37:34.771Z"
   },
   {
    "duration": 620,
    "start_time": "2021-06-09T10:38:12.633Z"
   },
   {
    "duration": 620,
    "start_time": "2021-06-09T10:38:31.173Z"
   },
   {
    "duration": 436,
    "start_time": "2021-06-09T10:40:00.080Z"
   },
   {
    "duration": 11,
    "start_time": "2021-06-09T10:40:19.252Z"
   },
   {
    "duration": 383,
    "start_time": "2021-06-09T10:40:20.200Z"
   },
   {
    "duration": 50,
    "start_time": "2021-06-09T10:42:29.053Z"
   },
   {
    "duration": 683,
    "start_time": "2021-06-09T10:42:33.053Z"
   },
   {
    "duration": 443,
    "start_time": "2021-06-09T10:43:19.532Z"
   },
   {
    "duration": 388,
    "start_time": "2021-06-09T10:43:20.154Z"
   },
   {
    "duration": 384,
    "start_time": "2021-06-09T10:43:37.334Z"
   },
   {
    "duration": 48,
    "start_time": "2021-06-09T10:43:56.333Z"
   },
   {
    "duration": 628,
    "start_time": "2021-06-09T10:43:59.532Z"
   },
   {
    "duration": 14,
    "start_time": "2021-06-09T10:44:35.152Z"
   },
   {
    "duration": 12,
    "start_time": "2021-06-09T10:45:02.899Z"
   },
   {
    "duration": 664,
    "start_time": "2021-06-09T10:45:06.113Z"
   },
   {
    "duration": 679,
    "start_time": "2021-06-09T11:37:55.302Z"
   },
   {
    "duration": 47,
    "start_time": "2021-06-09T11:38:14.895Z"
   },
   {
    "duration": 11,
    "start_time": "2021-06-09T11:38:15.695Z"
   },
   {
    "duration": 667,
    "start_time": "2021-06-09T11:38:18.393Z"
   },
   {
    "duration": 741,
    "start_time": "2021-06-09T11:38:31.335Z"
   },
   {
    "duration": 685,
    "start_time": "2021-06-09T11:38:46.243Z"
   },
   {
    "duration": 2208,
    "start_time": "2021-06-09T11:39:18.577Z"
   },
   {
    "duration": 59,
    "start_time": "2021-06-09T11:39:26.543Z"
   },
   {
    "duration": 13,
    "start_time": "2021-06-09T11:39:27.603Z"
   },
   {
    "duration": 1391,
    "start_time": "2021-06-09T11:39:32.337Z"
   },
   {
    "duration": 1775,
    "start_time": "2021-06-09T11:40:05.534Z"
   },
   {
    "duration": 3543,
    "start_time": "2021-06-09T11:40:24.871Z"
   },
   {
    "duration": 4581,
    "start_time": "2021-06-09T11:41:05.684Z"
   },
   {
    "duration": 4116,
    "start_time": "2021-06-09T11:41:52.565Z"
   },
   {
    "duration": 1505,
    "start_time": "2021-06-09T11:43:35.234Z"
   },
   {
    "duration": 1122,
    "start_time": "2021-06-09T11:43:47.186Z"
   },
   {
    "duration": 785,
    "start_time": "2021-06-09T11:44:20.744Z"
   },
   {
    "duration": 2407,
    "start_time": "2021-06-09T11:44:28.208Z"
   },
   {
    "duration": 10,
    "start_time": "2021-06-09T11:45:00.016Z"
   },
   {
    "duration": 3292,
    "start_time": "2021-06-09T11:45:15.288Z"
   },
   {
    "duration": 2922,
    "start_time": "2021-06-09T11:45:58.240Z"
   },
   {
    "duration": 4,
    "start_time": "2021-06-09T11:46:24.288Z"
   },
   {
    "duration": 3172,
    "start_time": "2021-06-09T11:46:24.315Z"
   },
   {
    "duration": 85,
    "start_time": "2021-06-09T11:46:27.490Z"
   },
   {
    "duration": 15,
    "start_time": "2021-06-09T11:46:27.579Z"
   },
   {
    "duration": 9,
    "start_time": "2021-06-09T11:46:27.596Z"
   },
   {
    "duration": 3644,
    "start_time": "2021-06-09T11:46:27.607Z"
   },
   {
    "duration": 5,
    "start_time": "2021-06-09T11:48:02.987Z"
   },
   {
    "duration": 2238,
    "start_time": "2021-06-09T11:48:03.005Z"
   },
   {
    "duration": 59,
    "start_time": "2021-06-09T11:48:05.247Z"
   },
   {
    "duration": 23,
    "start_time": "2021-06-09T11:48:05.310Z"
   },
   {
    "duration": 11,
    "start_time": "2021-06-09T11:48:05.335Z"
   },
   {
    "duration": 3079,
    "start_time": "2021-06-09T11:48:05.349Z"
   },
   {
    "duration": 154,
    "start_time": "2021-06-09T12:14:00.795Z"
   },
   {
    "duration": 644,
    "start_time": "2021-06-09T12:14:10.630Z"
   },
   {
    "duration": 423,
    "start_time": "2021-06-09T12:14:19.867Z"
   },
   {
    "duration": 20,
    "start_time": "2021-06-09T12:14:33.409Z"
   },
   {
    "duration": 480,
    "start_time": "2021-06-09T12:28:49.002Z"
   },
   {
    "duration": 23,
    "start_time": "2021-06-09T12:29:30.653Z"
   },
   {
    "duration": 811,
    "start_time": "2021-06-09T12:29:32.880Z"
   },
   {
    "duration": 404,
    "start_time": "2021-06-09T12:30:01.767Z"
   },
   {
    "duration": 17,
    "start_time": "2021-06-09T12:33:44.414Z"
   },
   {
    "duration": 385,
    "start_time": "2021-06-09T12:34:22.668Z"
   },
   {
    "duration": 8,
    "start_time": "2021-06-09T12:34:33.103Z"
   },
   {
    "duration": 33,
    "start_time": "2021-06-09T12:34:54.413Z"
   },
   {
    "duration": 386,
    "start_time": "2021-06-09T12:35:02.722Z"
   },
   {
    "duration": 128,
    "start_time": "2021-06-09T12:35:11.750Z"
   },
   {
    "duration": 23,
    "start_time": "2021-06-09T12:35:22.708Z"
   },
   {
    "duration": 353,
    "start_time": "2021-06-09T12:35:29.234Z"
   },
   {
    "duration": 12,
    "start_time": "2021-06-09T12:37:00.570Z"
   },
   {
    "duration": 14,
    "start_time": "2021-06-09T12:37:09.700Z"
   },
   {
    "duration": 13,
    "start_time": "2021-06-09T12:37:17.859Z"
   },
   {
    "duration": 396,
    "start_time": "2021-06-09T12:37:27.255Z"
   },
   {
    "duration": 12,
    "start_time": "2021-06-09T12:37:50.058Z"
   },
   {
    "duration": 14,
    "start_time": "2021-06-09T12:37:56.087Z"
   },
   {
    "duration": 12,
    "start_time": "2021-06-09T12:38:28.819Z"
   },
   {
    "duration": 15,
    "start_time": "2021-06-09T12:38:43.551Z"
   },
   {
    "duration": 71,
    "start_time": "2021-06-09T12:38:51.764Z"
   },
   {
    "duration": 6,
    "start_time": "2021-06-09T12:40:52.186Z"
   },
   {
    "duration": 386,
    "start_time": "2021-06-09T12:41:35.300Z"
   },
   {
    "duration": 353,
    "start_time": "2021-06-09T12:41:46.306Z"
   },
   {
    "duration": 27,
    "start_time": "2021-06-09T13:01:58.346Z"
   },
   {
    "duration": 363,
    "start_time": "2021-06-09T13:02:18.937Z"
   },
   {
    "duration": 348,
    "start_time": "2021-06-09T13:03:23.060Z"
   },
   {
    "duration": 8,
    "start_time": "2021-06-09T13:03:35.477Z"
   },
   {
    "duration": 9,
    "start_time": "2021-06-09T13:05:17.954Z"
   },
   {
    "duration": 357,
    "start_time": "2021-06-09T13:05:26.903Z"
   },
   {
    "duration": 364,
    "start_time": "2021-06-09T13:05:30.709Z"
   },
   {
    "duration": 8,
    "start_time": "2021-06-09T13:06:47.838Z"
   },
   {
    "duration": 13,
    "start_time": "2021-06-09T13:08:25.116Z"
   },
   {
    "duration": 431,
    "start_time": "2021-06-09T13:08:36.454Z"
   },
   {
    "duration": 5,
    "start_time": "2021-06-09T13:09:05.534Z"
   },
   {
    "duration": 5,
    "start_time": "2021-06-09T13:09:13.599Z"
   },
   {
    "duration": 13,
    "start_time": "2021-06-09T13:09:33.930Z"
   },
   {
    "duration": 12,
    "start_time": "2021-06-09T13:10:46.577Z"
   },
   {
    "duration": 7,
    "start_time": "2021-06-09T13:11:05.792Z"
   },
   {
    "duration": 357,
    "start_time": "2021-06-09T13:11:17.534Z"
   },
   {
    "duration": 367,
    "start_time": "2021-06-09T13:11:34.469Z"
   },
   {
    "duration": 11,
    "start_time": "2021-06-09T13:13:24.653Z"
   },
   {
    "duration": 51,
    "start_time": "2021-06-09T13:14:12.824Z"
   },
   {
    "duration": 13,
    "start_time": "2021-06-09T13:15:41.627Z"
   },
   {
    "duration": 9,
    "start_time": "2021-06-09T13:16:27.617Z"
   },
   {
    "duration": 362,
    "start_time": "2021-06-09T13:21:59.458Z"
   },
   {
    "duration": 343,
    "start_time": "2021-06-09T13:22:15.569Z"
   },
   {
    "duration": 31,
    "start_time": "2021-06-09T13:26:16.794Z"
   },
   {
    "duration": 13,
    "start_time": "2021-06-09T13:26:26.740Z"
   },
   {
    "duration": 11,
    "start_time": "2021-06-09T13:26:49.923Z"
   },
   {
    "duration": 403,
    "start_time": "2021-06-09T13:27:01.868Z"
   },
   {
    "duration": 44,
    "start_time": "2021-06-09T13:27:10.840Z"
   },
   {
    "duration": 32,
    "start_time": "2021-06-09T13:27:19.145Z"
   },
   {
    "duration": 57,
    "start_time": "2021-06-09T13:27:55.030Z"
   },
   {
    "duration": 10,
    "start_time": "2021-06-09T13:27:57.150Z"
   },
   {
    "duration": 8,
    "start_time": "2021-06-09T13:37:08.517Z"
   },
   {
    "duration": 349,
    "start_time": "2021-06-09T13:37:38.243Z"
   },
   {
    "duration": 15,
    "start_time": "2021-06-09T13:39:29.614Z"
   },
   {
    "duration": 17,
    "start_time": "2021-06-09T13:40:24.531Z"
   },
   {
    "duration": 223,
    "start_time": "2021-06-09T15:35:24.971Z"
   },
   {
    "duration": 188,
    "start_time": "2021-06-09T15:35:30.467Z"
   },
   {
    "duration": 179,
    "start_time": "2021-06-09T15:35:40.877Z"
   },
   {
    "duration": 2,
    "start_time": "2021-06-09T15:35:51.038Z"
   },
   {
    "duration": 1335,
    "start_time": "2021-06-09T15:35:51.156Z"
   },
   {
    "duration": 2121,
    "start_time": "2021-06-09T15:35:50.373Z"
   },
   {
    "duration": 2114,
    "start_time": "2021-06-09T15:35:50.381Z"
   },
   {
    "duration": 2112,
    "start_time": "2021-06-09T15:35:50.384Z"
   },
   {
    "duration": 2028,
    "start_time": "2021-06-09T15:35:50.470Z"
   },
   {
    "duration": 1992,
    "start_time": "2021-06-09T15:35:50.507Z"
   },
   {
    "duration": 1985,
    "start_time": "2021-06-09T15:35:50.515Z"
   },
   {
    "duration": 1983,
    "start_time": "2021-06-09T15:35:50.519Z"
   },
   {
    "duration": 1970,
    "start_time": "2021-06-09T15:35:50.533Z"
   },
   {
    "duration": 1913,
    "start_time": "2021-06-09T15:35:50.591Z"
   },
   {
    "duration": 15854,
    "start_time": "2021-06-09T15:36:23.112Z"
   },
   {
    "duration": 3,
    "start_time": "2021-06-09T15:36:44.789Z"
   },
   {
    "duration": 644,
    "start_time": "2021-06-09T15:36:44.892Z"
   },
   {
    "duration": 41,
    "start_time": "2021-06-09T15:36:45.538Z"
   },
   {
    "duration": 11,
    "start_time": "2021-06-09T15:36:45.581Z"
   },
   {
    "duration": 8,
    "start_time": "2021-06-09T15:36:45.595Z"
   },
   {
    "duration": 843,
    "start_time": "2021-06-09T15:36:45.605Z"
   },
   {
    "duration": 1560,
    "start_time": "2021-06-09T15:36:44.890Z"
   },
   {
    "duration": 1558,
    "start_time": "2021-06-09T15:36:44.893Z"
   },
   {
    "duration": 1555,
    "start_time": "2021-06-09T15:36:44.896Z"
   },
   {
    "duration": 1548,
    "start_time": "2021-06-09T15:36:44.905Z"
   },
   {
    "duration": 1544,
    "start_time": "2021-06-09T15:36:44.909Z"
   },
   {
    "duration": 850,
    "start_time": "2021-06-09T15:37:29.859Z"
   },
   {
    "duration": 7,
    "start_time": "2021-06-09T15:37:53.703Z"
   },
   {
    "duration": 813,
    "start_time": "2021-06-09T15:37:54.421Z"
   },
   {
    "duration": 24,
    "start_time": "2021-06-09T15:38:09.656Z"
   },
   {
    "duration": 12,
    "start_time": "2021-06-09T15:38:12.639Z"
   },
   {
    "duration": 20,
    "start_time": "2021-06-09T15:38:19.852Z"
   },
   {
    "duration": 194,
    "start_time": "2021-06-09T15:38:21.366Z"
   },
   {
    "duration": 8,
    "start_time": "2021-06-09T15:40:06.621Z"
   },
   {
    "duration": 9,
    "start_time": "2021-06-09T15:51:18.146Z"
   },
   {
    "duration": 194,
    "start_time": "2021-06-09T15:53:39.519Z"
   },
   {
    "duration": 21,
    "start_time": "2021-06-09T15:54:24.394Z"
   },
   {
    "duration": 28,
    "start_time": "2021-06-09T15:54:59.084Z"
   },
   {
    "duration": 41,
    "start_time": "2021-06-09T15:55:09.704Z"
   },
   {
    "duration": 13,
    "start_time": "2021-06-09T15:55:10.493Z"
   },
   {
    "duration": 42,
    "start_time": "2021-06-09T15:55:28.245Z"
   },
   {
    "duration": 8,
    "start_time": "2021-06-09T15:55:28.834Z"
   },
   {
    "duration": 14,
    "start_time": "2021-06-09T15:55:36.340Z"
   },
   {
    "duration": 4079,
    "start_time": "2021-06-09T15:55:58.263Z"
   },
   {
    "duration": 3541,
    "start_time": "2021-06-09T15:56:34.630Z"
   },
   {
    "duration": 4160,
    "start_time": "2021-06-09T15:56:57.193Z"
   },
   {
    "duration": 4011,
    "start_time": "2021-06-09T15:57:23.622Z"
   },
   {
    "duration": 4172,
    "start_time": "2021-06-09T15:57:44.151Z"
   },
   {
    "duration": 4105,
    "start_time": "2021-06-09T15:58:12.812Z"
   },
   {
    "duration": 4080,
    "start_time": "2021-06-09T16:00:35.376Z"
   },
   {
    "duration": 10,
    "start_time": "2021-06-09T16:01:05.106Z"
   },
   {
    "duration": 3674,
    "start_time": "2021-06-09T16:01:33.216Z"
   },
   {
    "duration": 89,
    "start_time": "2021-06-09T18:31:59.848Z"
   },
   {
    "duration": 20863,
    "start_time": "2021-06-09T18:32:12.718Z"
   },
   {
    "duration": 2140,
    "start_time": "2021-06-09T18:32:33.584Z"
   },
   {
    "duration": 57,
    "start_time": "2021-06-09T18:32:35.728Z"
   },
   {
    "duration": 11,
    "start_time": "2021-06-09T18:32:35.788Z"
   },
   {
    "duration": 9,
    "start_time": "2021-06-09T18:32:35.801Z"
   },
   {
    "duration": 3101,
    "start_time": "2021-06-09T18:32:35.813Z"
   },
   {
    "duration": 45,
    "start_time": "2021-06-09T18:32:38.917Z"
   },
   {
    "duration": 33,
    "start_time": "2021-06-09T18:32:38.966Z"
   },
   {
    "duration": 11,
    "start_time": "2021-06-09T18:32:39.001Z"
   },
   {
    "duration": 11,
    "start_time": "2021-06-09T18:32:39.056Z"
   },
   {
    "duration": 100,
    "start_time": "2021-06-09T18:32:39.070Z"
   },
   {
    "duration": 1613,
    "start_time": "2021-06-09T18:32:37.559Z"
   },
   {
    "duration": 1610,
    "start_time": "2021-06-09T18:32:37.564Z"
   },
   {
    "duration": 5263,
    "start_time": "2021-06-09T18:32:57.426Z"
   },
   {
    "duration": 14,
    "start_time": "2021-06-09T18:33:11.477Z"
   },
   {
    "duration": 4972,
    "start_time": "2021-06-09T18:33:30.844Z"
   },
   {
    "duration": 487,
    "start_time": "2021-06-09T18:36:02.556Z"
   },
   {
    "duration": 6,
    "start_time": "2021-06-09T18:36:19.517Z"
   },
   {
    "duration": 10,
    "start_time": "2021-06-09T18:38:08.399Z"
   },
   {
    "duration": 268,
    "start_time": "2021-06-09T19:03:58.641Z"
   },
   {
    "duration": 33,
    "start_time": "2021-06-09T19:04:18.602Z"
   },
   {
    "duration": 252,
    "start_time": "2021-06-09T19:04:26.866Z"
   },
   {
    "duration": 5,
    "start_time": "2021-06-09T19:04:50.084Z"
   },
   {
    "duration": 281,
    "start_time": "2021-06-09T19:04:56.344Z"
   },
   {
    "duration": 3610,
    "start_time": "2021-06-09T19:05:23.655Z"
   },
   {
    "duration": 140108,
    "start_time": "2021-06-09T19:06:48.397Z"
   },
   {
    "duration": 3660,
    "start_time": "2021-06-09T19:10:20.872Z"
   },
   {
    "duration": 477,
    "start_time": "2021-06-09T19:10:45.270Z"
   },
   {
    "duration": 3601,
    "start_time": "2021-06-09T19:11:41.818Z"
   },
   {
    "duration": 3726,
    "start_time": "2021-06-09T19:12:38.605Z"
   },
   {
    "duration": 3738,
    "start_time": "2021-06-09T19:13:18.801Z"
   },
   {
    "duration": 4652,
    "start_time": "2021-06-09T19:13:50.336Z"
   },
   {
    "duration": 4495,
    "start_time": "2021-06-09T19:14:57.860Z"
   },
   {
    "duration": 350,
    "start_time": "2021-06-09T19:16:34.935Z"
   },
   {
    "duration": 4926,
    "start_time": "2021-06-09T19:17:18.133Z"
   },
   {
    "duration": 198973,
    "start_time": "2021-06-09T19:17:56.131Z"
   },
   {
    "duration": 202845,
    "start_time": "2021-06-09T19:22:16.298Z"
   },
   {
    "duration": 33399,
    "start_time": "2021-06-09T19:27:02.277Z"
   },
   {
    "duration": 1351,
    "start_time": "2021-06-09T19:27:47.984Z"
   },
   {
    "duration": 474,
    "start_time": "2021-06-09T19:28:05.476Z"
   },
   {
    "duration": 770276,
    "start_time": "2021-06-09T19:28:36.335Z"
   },
   {
    "duration": 239,
    "start_time": "2021-06-09T19:46:00.654Z"
   },
   {
    "duration": 4897,
    "start_time": "2021-06-09T19:48:34.785Z"
   },
   {
    "duration": 602,
    "start_time": "2021-06-09T19:49:37.697Z"
   },
   {
    "duration": 24394,
    "start_time": "2021-06-09T19:50:03.740Z"
   },
   {
    "duration": 389039,
    "start_time": "2021-06-09T19:52:02.994Z"
   },
   {
    "duration": 5313,
    "start_time": "2021-06-09T20:21:04.666Z"
   },
   {
    "duration": 1643,
    "start_time": "2021-06-10T15:41:42.151Z"
   },
   {
    "duration": -234,
    "start_time": "2021-06-10T15:41:44.036Z"
   },
   {
    "duration": 240,
    "start_time": "2021-06-10T15:41:44.700Z"
   },
   {
    "duration": 54,
    "start_time": "2021-06-10T15:41:47.129Z"
   },
   {
    "duration": 13,
    "start_time": "2021-06-10T15:41:47.892Z"
   },
   {
    "duration": 232,
    "start_time": "2021-06-10T15:41:49.852Z"
   },
   {
    "duration": 237,
    "start_time": "2021-06-10T15:41:53.436Z"
   },
   {
    "duration": 21151,
    "start_time": "2021-06-10T15:41:55.804Z"
   },
   {
    "duration": 1004,
    "start_time": "2021-06-10T15:42:25.519Z"
   },
   {
    "duration": 50,
    "start_time": "2021-06-10T15:42:26.526Z"
   },
   {
    "duration": 11,
    "start_time": "2021-06-10T15:42:26.642Z"
   },
   {
    "duration": 9,
    "start_time": "2021-06-10T15:42:28.427Z"
   },
   {
    "duration": 1233,
    "start_time": "2021-06-10T15:42:29.358Z"
   },
   {
    "duration": 37,
    "start_time": "2021-06-10T16:01:23.665Z"
   },
   {
    "duration": 14,
    "start_time": "2021-06-10T16:01:24.106Z"
   },
   {
    "duration": 1619,
    "start_time": "2021-06-10T18:28:49.122Z"
   },
   {
    "duration": 19574,
    "start_time": "2021-06-10T18:28:57.425Z"
   },
   {
    "duration": 910,
    "start_time": "2021-06-10T18:29:17.002Z"
   },
   {
    "duration": 53,
    "start_time": "2021-06-10T18:31:22.889Z"
   },
   {
    "duration": 14,
    "start_time": "2021-06-10T18:31:26.558Z"
   },
   {
    "duration": 9,
    "start_time": "2021-06-10T18:32:08.664Z"
   },
   {
    "duration": 1223,
    "start_time": "2021-06-10T18:32:10.790Z"
   },
   {
    "duration": 13,
    "start_time": "2021-06-10T18:32:23.514Z"
   },
   {
    "duration": 5034,
    "start_time": "2021-06-10T18:32:53.034Z"
   },
   {
    "duration": 4648,
    "start_time": "2021-06-10T18:33:12.392Z"
   },
   {
    "duration": 6,
    "start_time": "2021-06-10T18:33:17.055Z"
   },
   {
    "duration": 664,
    "start_time": "2021-06-10T18:45:46.665Z"
   },
   {
    "duration": 507,
    "start_time": "2021-06-10T18:46:00.013Z"
   },
   {
    "duration": 48,
    "start_time": "2021-06-10T18:46:34.849Z"
   },
   {
    "duration": 11,
    "start_time": "2021-06-10T18:46:35.549Z"
   },
   {
    "duration": 8,
    "start_time": "2021-06-10T18:46:37.922Z"
   },
   {
    "duration": 965,
    "start_time": "2021-06-10T18:46:38.908Z"
   },
   {
    "duration": 516,
    "start_time": "2021-06-10T18:47:52.182Z"
   },
   {
    "duration": 250,
    "start_time": "2021-06-10T18:48:20.089Z"
   },
   {
    "duration": 550,
    "start_time": "2021-06-10T18:48:34.090Z"
   },
   {
    "duration": 3123,
    "start_time": "2021-06-10T19:40:32.986Z"
   },
   {
    "duration": 2023,
    "start_time": "2021-06-10T19:40:36.113Z"
   },
   {
    "duration": 63,
    "start_time": "2021-06-10T19:41:00.093Z"
   },
   {
    "duration": 12,
    "start_time": "2021-06-10T19:41:00.534Z"
   },
   {
    "duration": 379,
    "start_time": "2021-06-10T19:41:04.708Z"
   },
   {
    "duration": 1243,
    "start_time": "2021-06-10T19:41:09.432Z"
   },
   {
    "duration": 371,
    "start_time": "2021-06-10T19:41:31.152Z"
   },
   {
    "duration": 424,
    "start_time": "2021-06-10T19:46:36.185Z"
   },
   {
    "duration": 626,
    "start_time": "2021-06-10T19:47:37.592Z"
   },
   {
    "duration": 689,
    "start_time": "2021-06-10T19:48:04.071Z"
   },
   {
    "duration": 621,
    "start_time": "2021-06-10T19:48:24.601Z"
   },
   {
    "duration": 3060,
    "start_time": "2021-06-10T19:49:13.196Z"
   },
   {
    "duration": 2066,
    "start_time": "2021-06-10T19:49:16.259Z"
   },
   {
    "duration": 57,
    "start_time": "2021-06-10T19:49:18.328Z"
   },
   {
    "duration": 11,
    "start_time": "2021-06-10T19:49:18.387Z"
   },
   {
    "duration": 412,
    "start_time": "2021-06-10T19:49:18.401Z"
   },
   {
    "duration": 1259,
    "start_time": "2021-06-10T19:49:18.816Z"
   },
   {
    "duration": 37,
    "start_time": "2021-06-10T19:54:20.024Z"
   },
   {
    "duration": 25,
    "start_time": "2021-06-10T19:54:34.179Z"
   },
   {
    "duration": 33,
    "start_time": "2021-06-10T19:56:14.095Z"
   },
   {
    "duration": 14,
    "start_time": "2021-06-10T19:56:22.078Z"
   },
   {
    "duration": 10,
    "start_time": "2021-06-10T19:56:38.831Z"
   },
   {
    "duration": 11,
    "start_time": "2021-06-10T19:56:59.144Z"
   },
   {
    "duration": 162757,
    "start_time": "2021-06-10T19:57:33.814Z"
   },
   {
    "duration": 22,
    "start_time": "2021-06-10T20:00:29.470Z"
   },
   {
    "duration": 11,
    "start_time": "2021-06-10T20:00:35.862Z"
   },
   {
    "duration": 21,
    "start_time": "2021-06-10T20:00:47.479Z"
   },
   {
    "duration": 11,
    "start_time": "2021-06-10T20:00:52.599Z"
   },
   {
    "duration": 40,
    "start_time": "2021-06-10T20:01:15.775Z"
   },
   {
    "duration": 85,
    "start_time": "2021-06-10T20:01:21.675Z"
   },
   {
    "duration": 308140,
    "start_time": "2021-06-10T20:02:04.756Z"
   },
   {
    "duration": 685,
    "start_time": "2021-06-10T20:07:46.417Z"
   },
   {
    "duration": 337,
    "start_time": "2021-06-10T20:08:32.984Z"
   },
   {
    "duration": 271,
    "start_time": "2021-06-10T20:09:10.244Z"
   },
   {
    "duration": 264,
    "start_time": "2021-06-10T20:11:15.764Z"
   },
   {
    "duration": 22161,
    "start_time": "2021-06-11T19:37:27.845Z"
   },
   {
    "duration": 2436,
    "start_time": "2021-06-11T19:37:50.009Z"
   },
   {
    "duration": 59,
    "start_time": "2021-06-11T19:37:52.448Z"
   },
   {
    "duration": 21,
    "start_time": "2021-06-11T19:37:52.510Z"
   },
   {
    "duration": 436,
    "start_time": "2021-06-11T19:37:52.533Z"
   },
   {
    "duration": 1376,
    "start_time": "2021-06-11T19:37:52.972Z"
   },
   {
    "duration": 55,
    "start_time": "2021-06-11T19:37:54.350Z"
   },
   {
    "duration": 298,
    "start_time": "2021-06-11T19:37:54.407Z"
   },
   {
    "duration": 120,
    "start_time": "2021-06-11T19:37:54.708Z"
   },
   {
    "duration": 326265,
    "start_time": "2021-06-11T19:37:54.831Z"
   },
   {
    "duration": 25,
    "start_time": "2021-06-11T19:43:21.099Z"
   },
   {
    "duration": 5046,
    "start_time": "2021-06-11T19:43:21.126Z"
   },
   {
    "duration": 6,
    "start_time": "2021-06-11T19:43:26.174Z"
   },
   {
    "duration": 5589,
    "start_time": "2021-06-11T19:43:26.182Z"
   },
   {
    "duration": 53,
    "start_time": "2021-06-11T19:45:13.110Z"
   },
   {
    "duration": 372,
    "start_time": "2021-09-28T20:58:17.766Z"
   },
   {
    "duration": 20484,
    "start_time": "2021-09-28T20:58:36.075Z"
   },
   {
    "duration": 4312,
    "start_time": "2021-09-28T20:58:56.561Z"
   },
   {
    "duration": 49,
    "start_time": "2021-09-28T20:59:00.875Z"
   },
   {
    "duration": 9,
    "start_time": "2021-09-28T20:59:00.925Z"
   },
   {
    "duration": 288,
    "start_time": "2021-09-28T20:59:00.936Z"
   },
   {
    "duration": 920,
    "start_time": "2021-09-28T20:59:01.226Z"
   },
   {
    "duration": 48,
    "start_time": "2021-09-28T20:59:02.148Z"
   },
   {
    "duration": 289,
    "start_time": "2021-09-28T20:59:02.198Z"
   },
   {
    "duration": 13,
    "start_time": "2021-09-28T20:59:02.489Z"
   }
  ],
  "kernelspec": {
   "display_name": "Python 3",
   "language": "python",
   "name": "python3"
  },
  "language_info": {
   "codemirror_mode": {
    "name": "ipython",
    "version": 3
   },
   "file_extension": ".py",
   "mimetype": "text/x-python",
   "name": "python",
   "nbconvert_exporter": "python",
   "pygments_lexer": "ipython3",
   "version": "3.7.8"
  },
  "toc": {
   "base_numbering": 1,
   "nav_menu": {},
   "number_sections": true,
   "sideBar": true,
   "skip_h1_title": true,
   "title_cell": "Содержание",
   "title_sidebar": "Contents",
   "toc_cell": true,
   "toc_position": {},
   "toc_section_display": true,
   "toc_window_display": false
  }
 },
 "nbformat": 4,
 "nbformat_minor": 2
}
